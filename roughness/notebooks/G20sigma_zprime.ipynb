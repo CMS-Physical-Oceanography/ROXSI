{
 "cells": [
  {
   "cell_type": "code",
   "execution_count": 1,
   "id": "cb2f323a",
   "metadata": {
    "scrolled": true
   },
   "outputs": [],
   "source": [
    "import numpy as np\n",
    "from scipy.io import loadmat,savemat\n",
    "from scipy.optimize import curve_fit\n",
    "import matplotlib.pyplot as plt\n",
    "from grid20_statistics import grid20_roughness"
   ]
  },
  {
   "cell_type": "code",
   "execution_count": 2,
   "id": "121bf6e3",
   "metadata": {},
   "outputs": [],
   "source": [
    "g20 = loadmat('ROXSI_grids_all.mat')['G20']\n",
    "glat = np.rot90(g20['lat'][0][0],2)\n",
    "glon = np.rot90(g20['lon'][0][0],2)\n",
    "gh = g20['h'][0][0]"
   ]
  },
  {
   "cell_type": "code",
   "execution_count": 3,
   "id": "9af0acfb",
   "metadata": {},
   "outputs": [],
   "source": [
    "data = loadmat('2m_gridded_bath.mat')\n",
    "h = data['weak_h']\n",
    "lat = data['lat']\n",
    "lon = data['lon']\n",
    "idxs = ~np.isnan(h)\n",
    "all_h = h[idxs]\n",
    "all_lat = lat[idxs]\n",
    "all_lon = lon[idxs]"
   ]
  },
  {
   "cell_type": "code",
   "execution_count": 4,
   "id": "fcae5b55",
   "metadata": {},
   "outputs": [],
   "source": [
    "bath_X = np.zeros((len(all_h.flatten()),2))\n",
    "bath_X[:,0] = all_lon.flatten()\n",
    "bath_X[:,1] = all_lat.flatten()"
   ]
  },
  {
   "cell_type": "code",
   "execution_count": null,
   "id": "2d529172",
   "metadata": {
    "scrolled": false
   },
   "outputs": [],
   "source": [
    "rgh,rgh_square,h,b= grid20_roughness(glat,glon,all_h.flatten(),bath_X)"
   ]
  },
  {
   "cell_type": "code",
   "execution_count": null,
   "id": "a23337cc",
   "metadata": {
    "scrolled": true
   },
   "outputs": [],
   "source": [
    "a=plt.pcolormesh(glon,glat,rgh,cmap='YlOrRd')\n",
    "plt.colorbar(a)"
   ]
  },
  {
   "cell_type": "code",
   "execution_count": null,
   "id": "6d014bcc",
   "metadata": {},
   "outputs": [],
   "source": [
    "var_dict = {'rgh':rgh,'cell_h':h,'cell_b':b}\n",
    "savemat('G20_6_12.mat',var_dict)"
   ]
  },
  {
   "cell_type": "code",
   "execution_count": null,
   "id": "2a3a0152",
   "metadata": {},
   "outputs": [],
   "source": []
  }
 ],
 "metadata": {
  "kernelspec": {
   "display_name": "Python 3 (ipykernel)",
   "language": "python",
   "name": "python3"
  },
  "language_info": {
   "codemirror_mode": {
    "name": "ipython",
    "version": 3
   },
   "file_extension": ".py",
   "mimetype": "text/x-python",
   "name": "python",
   "nbconvert_exporter": "python",
   "pygments_lexer": "ipython3",
   "version": "3.11.1"
  }
 },
 "nbformat": 4,
 "nbformat_minor": 5
}
